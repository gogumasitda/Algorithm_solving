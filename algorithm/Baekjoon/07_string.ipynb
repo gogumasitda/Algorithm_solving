{
 "cells": [
  {
   "cell_type": "code",
   "execution_count": 4,
   "metadata": {},
   "outputs": [
    {
     "name": "stdout",
     "output_type": "stream",
     "text": [
      "baekjoon\n",
      "1 0 -1 -1 2 -1 -1 -1 -1 4 3 -1 -1 7 5 -1 -1 -1 -1 -1 -1 -1 -1 -1 -1 -1 \n"
     ]
    }
   ],
   "source": [
    "#10809\n",
    "\n",
    "input_string = input()\n",
    "abc = \"abcdefghijklmnopqrstuvwxyz\"\n",
    "str_after = \"\"\n",
    "\n",
    "for i in abc:\n",
    "    str_after += str(input_string.find(i))\n",
    "    str_after += \" \"\n",
    "print(str_after)"
   ]
  },
  {
   "cell_type": "code",
   "execution_count": null,
   "metadata": {},
   "outputs": [],
   "source": [
    "#2675\n",
    "\n",
    "test = int(input())\n",
    "\n",
    "for tc in range(test):\n",
    "    input_abc = input().split()\n",
    "    for i in input_abc[1]:\n",
    "        for j in range(int(input_abc[0])):\n",
    "            print(i*j, end=\"\")"
   ]
  }
 ],
 "metadata": {
  "kernelspec": {
   "display_name": "Python 3",
   "language": "python",
   "name": "python3"
  },
  "language_info": {
   "codemirror_mode": {
    "name": "ipython",
    "version": 3
   },
   "file_extension": ".py",
   "mimetype": "text/x-python",
   "name": "python",
   "nbconvert_exporter": "python",
   "pygments_lexer": "ipython3",
   "version": "3.6.7"
  }
 },
 "nbformat": 4,
 "nbformat_minor": 2
}
