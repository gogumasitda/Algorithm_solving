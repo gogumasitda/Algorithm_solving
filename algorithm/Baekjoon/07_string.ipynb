{
 "cells": [
  {
   "cell_type": "code",
   "execution_count": 4,
   "metadata": {},
   "outputs": [
    {
     "name": "stdout",
     "output_type": "stream",
     "text": [
      "baekjoon\n",
      "1 0 -1 -1 2 -1 -1 -1 -1 4 3 -1 -1 7 5 -1 -1 -1 -1 -1 -1 -1 -1 -1 -1 -1 \n"
     ]
    }
   ],
   "source": [
    "#10809\n",
    "\n",
    "input_string = input()\n",
    "abc = \"abcdefghijklmnopqrstuvwxyz\"\n",
    "str_after = \"\"\n",
    "\n",
    "for i in abc:\n",
    "    str_after += str(input_string.find(i))\n",
    "    str_after += \" \"\n",
    "print(str_after)"
   ]
  },
  {
   "cell_type": "code",
   "execution_count": 5,
   "metadata": {},
   "outputs": [
    {
     "name": "stdout",
     "output_type": "stream",
     "text": [
      "2\n",
      "3 abc\n",
      "aaabbbccc\n",
      "5 /htp\n",
      "/////hhhhhtttttppppp\n"
     ]
    }
   ],
   "source": [
    "#2675\n",
    "\n",
    "test = int(input())\n",
    "\n",
    "for tc in range(test):\n",
    "    make_string = \"\"\n",
    "    input_abc = input().split()\n",
    "    for i in input_abc[1]:\n",
    "        make_string += i * int(input_abc[0])\n",
    "    print(make_string)"
   ]
  },
  {
   "cell_type": "code",
   "execution_count": 3,
   "metadata": {},
   "outputs": [
    {
     "name": "stdout",
     "output_type": "stream",
     "text": [
      "zZa\n",
      "Z\n"
     ]
    }
   ],
   "source": [
    "# 1157\n",
    "\n",
    "input_string = input().upper()\n",
    "\n",
    "all_char = list(set(input_string))\n",
    "maxcount_and_char = [0, '?']\n",
    "\n",
    "for i in range(len(all_char)):\n",
    "    if input_string.count(all_char[i]) > maxcount_and_char[0]:\n",
    "        maxcount_and_char[0] = input_string.count(all_char[i])\n",
    "        maxcount_and_char[1] = all_char[i]\n",
    "    elif input_string.count(all_char[i]) == maxcount_and_char[0]:\n",
    "        maxcount_and_char[1] = \"?\"\n",
    "        \n",
    "print(maxcount_and_char[1])\n",
    "    "
   ]
  },
  {
   "cell_type": "code",
   "execution_count": 4,
   "metadata": {},
   "outputs": [
    {
     "name": "stdout",
     "output_type": "stream",
     "text": [
      "4\n",
      "aba\n",
      "abab\n",
      "abcabc\n",
      "a\n",
      "1\n"
     ]
    }
   ],
   "source": [
    "#1316\n",
    "\n",
    "def is_group(input_string):\n",
    "    all_char = list(set(input_string))\n",
    "    count_group = 0\n",
    "    \n",
    "    for j in all_char:\n",
    "        for k in range(1, input_string.count(j)):\n",
    "            if j != input_string[input_string.index(j) + k]:\n",
    "                return 0\n",
    "    return 1\n",
    "\n",
    "N = int(input())\n",
    "count_group = 0\n",
    "\n",
    "for i in range(N):\n",
    "    input_string = input()\n",
    "    count_group += is_group(input_string)\n",
    "    \n",
    "print(count_group)"
   ]
  },
  {
   "cell_type": "code",
   "execution_count": 7,
   "metadata": {},
   "outputs": [
    {
     "name": "stdout",
     "output_type": "stream",
     "text": [
      "734 893\n",
      "437\n"
     ]
    }
   ],
   "source": [
    "# 2908\n",
    "\n",
    "A , B  = input().split()\n",
    "\n",
    "A = int(A[::-1])\n",
    "B = int(B[::-1])\n",
    "\n",
    "print(max(A, B))"
   ]
  },
  {
   "cell_type": "code",
   "execution_count": 9,
   "metadata": {},
   "outputs": [
    {
     "name": "stdout",
     "output_type": "stream",
     "text": [
      "UNUCIC\n",
      "36\n"
     ]
    }
   ],
   "source": [
    "# 5622\n",
    "alphabet_time_list = []\n",
    "for i in range(8):\n",
    "    if i == 5 or i == 7:\n",
    "        alphabet_time_list += [3+i] * 4\n",
    "    else:\n",
    "        alphabet_time_list += [3+i] * 3\n",
    "        \n",
    "input_string = input()\n",
    "total_time = 0\n",
    "\n",
    "for i in input_string:\n",
    "    total_time += alphabet_time_list[(ord(i) - 65)]\n",
    "    \n",
    "print(total_time)"
   ]
  },
  {
   "cell_type": "code",
   "execution_count": 26,
   "metadata": {},
   "outputs": [
    {
     "name": "stdout",
     "output_type": "stream",
     "text": [
      "c=c=\n",
      "2\n"
     ]
    }
   ],
   "source": [
    "# 2941\n",
    "\n",
    "croatian_alphabet = ['c=', 'c-', 'dz=', 'd-', 'lj', 'nj', 's=', 'z=']\n",
    "\n",
    "input_string = input()\n",
    "\n",
    "for i in croatian_alphabet:\n",
    "    if i in input_string:\n",
    "        input_string = input_string.replace(i, \"a\")\n",
    "        \n",
    "print(len(input_string))"
   ]
  }
 ],
 "metadata": {
  "kernelspec": {
   "display_name": "Python 3",
   "language": "python",
   "name": "python3"
  },
  "language_info": {
   "codemirror_mode": {
    "name": "ipython",
    "version": 3
   },
   "file_extension": ".py",
   "mimetype": "text/x-python",
   "name": "python",
   "nbconvert_exporter": "python",
   "pygments_lexer": "ipython3",
   "version": "3.6.7"
  }
 },
 "nbformat": 4,
 "nbformat_minor": 2
}
