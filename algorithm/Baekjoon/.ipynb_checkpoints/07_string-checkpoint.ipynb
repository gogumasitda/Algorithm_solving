{
 "cells": [
  {
   "cell_type": "code",
   "execution_count": 4,
   "metadata": {},
   "outputs": [
    {
     "name": "stdout",
     "output_type": "stream",
     "text": [
      "baekjoon\n",
      "1 0 -1 -1 2 -1 -1 -1 -1 4 3 -1 -1 7 5 -1 -1 -1 -1 -1 -1 -1 -1 -1 -1 -1 \n"
     ]
    }
   ],
   "source": [
    "#10809\n",
    "\n",
    "input_string = input()\n",
    "abc = \"abcdefghijklmnopqrstuvwxyz\"\n",
    "str_after = \"\"\n",
    "\n",
    "for i in abc:\n",
    "    str_after += str(input_string.find(i))\n",
    "    str_after += \" \"\n",
    "print(str_after)"
   ]
  },
  {
   "cell_type": "code",
   "execution_count": 5,
   "metadata": {},
   "outputs": [
    {
     "name": "stdout",
     "output_type": "stream",
     "text": [
      "2\n",
      "3 abc\n",
      "aaabbbccc\n",
      "5 /htp\n",
      "/////hhhhhtttttppppp\n"
     ]
    }
   ],
   "source": [
    "#2675\n",
    "\n",
    "test = int(input())\n",
    "\n",
    "for tc in range(test):\n",
    "    make_string = \"\"\n",
    "    input_abc = input().split()\n",
    "    for i in input_abc[1]:\n",
    "        make_string += i * int(input_abc[0])\n",
    "    print(make_string)"
   ]
  },
  {
   "cell_type": "code",
   "execution_count": 3,
   "metadata": {},
   "outputs": [
    {
     "name": "stdout",
     "output_type": "stream",
     "text": [
      "zZa\n",
      "Z\n"
     ]
    }
   ],
   "source": [
    "# 1157\n",
    "\n",
    "input_string = input().upper()\n",
    "\n",
    "all_char = list(set(input_string))\n",
    "maxcount_and_char = [0, '?']\n",
    "\n",
    "for i in range(len(all_char)):\n",
    "    if input_string.count(all_char[i]) > maxcount_and_char[0]:\n",
    "        maxcount_and_char[0] = input_string.count(all_char[i])\n",
    "        maxcount_and_char[1] = all_char[i]\n",
    "    elif input_string.count(all_char[i]) == maxcount_and_char[0]:\n",
    "        maxcount_and_char[1] = \"?\"\n",
    "        \n",
    "print(maxcount_and_char[1])\n",
    "    "
   ]
  },
  {
   "cell_type": "code",
   "execution_count": 6,
   "metadata": {},
   "outputs": [
    {
     "name": "stdout",
     "output_type": "stream",
     "text": [
      "1\n",
      "abaa\n",
      "1\n"
     ]
    }
   ],
   "source": [
    "#1316 \n",
    "\n",
    "N = int(input())\n",
    "count_group = 0\n",
    "\n",
    "for i in range(N):\n",
    "    input_string = input()\n",
    "    all_char = list(set(input_string))\n",
    "    \n",
    "    for j in all_char:\n",
    "        if input_string[input_string.find(j) + input_string.count(j) - 1] != j:\n",
    "            break\n",
    "    else:\n",
    "        count_group += 1\n",
    "\n",
    "print(count_group)"
   ]
  }
 ],
 "metadata": {
  "kernelspec": {
   "display_name": "Python 3",
   "language": "python",
   "name": "python3"
  }
 },
 "nbformat": 4,
 "nbformat_minor": 2
}
