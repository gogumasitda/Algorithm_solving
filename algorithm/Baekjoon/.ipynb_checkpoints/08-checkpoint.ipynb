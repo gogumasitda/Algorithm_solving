{
 "cells": [
  {
   "cell_type": "code",
   "execution_count": null,
   "metadata": {},
   "outputs": [],
   "source": [
    "# 2292\n",
    "\n",
    "N = int(input())\n",
    "\n",
    "# 1, 6, 12, 18 .. 방은 해당 수만큼 증가\n",
    "# 1, 7, 19, 37.. 방의 마지막 번호는 다음과 같다.\n",
    "# 1, 2, 3, 4 .. 방을 넘는 수\n",
    "\n",
    "last_room_num = 1\n",
    "\n",
    "for i in range(N):\n",
    "    last_room_num += 6*i\n",
    "    if last_room_num >= N:\n",
    "        print(i+1)\n",
    "        break"
   ]
  },
  {
   "cell_type": "code",
   "execution_count": 4,
   "metadata": {},
   "outputs": [
    {
     "name": "stdout",
     "output_type": "stream",
     "text": [
      "3\n",
      "2/1\n"
     ]
    }
   ],
   "source": [
    "# https://www.acmicpc.net/problem/1193\n",
    "\n",
    "#  1  2  6  7 15 16 28\n",
    "#  3  5  8 14 17 27\n",
    "#  4  9 13 18 26\n",
    "# 10 12 19 25\n",
    "# 11 20 24\n",
    "# 21 23\n",
    "# 22\n",
    "\n",
    "# 1 3 6 10 15\n",
    "\n",
    "N = int(input())\n",
    "count = 0\n",
    "\n",
    "while N > 0:\n",
    "    count += 1\n",
    "    N -= count\n",
    "\n",
    "if count % 2 == 0:\n",
    "    print(f'{count + N}/{1 - N}')\n",
    "else:\n",
    "    print(f'{1 - N}/{count + N}')"
   ]
  },
  {
   "cell_type": "code",
   "execution_count": 8,
   "metadata": {},
   "outputs": [
    {
     "name": "stdout",
     "output_type": "stream",
     "text": [
      "1\n",
      "0 3\n"
     ]
    },
    {
     "ename": "KeyboardInterrupt",
     "evalue": "",
     "output_type": "error",
     "traceback": [
      "\u001b[1;31m---------------------------------------------------------------------------\u001b[0m",
      "\u001b[1;31mKeyboardInterrupt\u001b[0m                         Traceback (most recent call last)",
      "\u001b[1;32m<ipython-input-8-e9573c4ab8a0>\u001b[0m in \u001b[0;36m<module>\u001b[1;34m\u001b[0m\n\u001b[0;32m     12\u001b[0m         \u001b[1;32mif\u001b[0m \u001b[0mtotal_k\u001b[0m \u001b[1;33m+\u001b[0m \u001b[0mk\u001b[0m\u001b[1;33m+\u001b[0m\u001b[1;36m1\u001b[0m \u001b[1;33m>=\u001b[0m  \u001b[0mlength\u001b[0m\u001b[1;33m:\u001b[0m\u001b[1;33m\u001b[0m\u001b[1;33m\u001b[0m\u001b[0m\n\u001b[0;32m     13\u001b[0m             \u001b[0mk\u001b[0m \u001b[1;33m+=\u001b[0m \u001b[1;36m1\u001b[0m\u001b[1;33m\u001b[0m\u001b[1;33m\u001b[0m\u001b[0m\n\u001b[1;32m---> 14\u001b[1;33m             \u001b[0mlength\u001b[0m \u001b[1;33m-=\u001b[0m \u001b[0mk\u001b[0m\u001b[1;33m\u001b[0m\u001b[1;33m\u001b[0m\u001b[0m\n\u001b[0m\u001b[0;32m     15\u001b[0m             \u001b[0mtotal_k\u001b[0m \u001b[1;33m+=\u001b[0m \u001b[0mk\u001b[0m\u001b[1;33m\u001b[0m\u001b[1;33m\u001b[0m\u001b[0m\n\u001b[0;32m     16\u001b[0m             \u001b[0mcount\u001b[0m \u001b[1;33m+=\u001b[0m \u001b[1;36m1\u001b[0m\u001b[1;33m\u001b[0m\u001b[1;33m\u001b[0m\u001b[0m\n",
      "\u001b[1;31mKeyboardInterrupt\u001b[0m: "
     ]
    }
   ],
   "source": [
    "# https://www.acmicpc.net/problem/1011\n",
    "# 생각 더 필요\n",
    "\n",
    "T = int(input())\n",
    "\n",
    "for tc in range(T):\n",
    "    X, Y = map(int, input().split())\n",
    "    length = Y - X - 2\n",
    "    count = 2\n",
    "    k = 1\n",
    "    total_k = 1\n",
    "    while length:\n",
    "        if total_k + k+1 >=  length:\n",
    "            k += 1\n",
    "            length -= k\n",
    "            total_k += k\n",
    "            count += 1\n",
    "            continue\n",
    "#         elif total_k - k == length:\n",
    "#             # while 문 돌리자.\n",
    "#             k -= 1\n",
    "#             length -= k\n",
    "#             total_k -= k\n",
    "#             count += 1\n",
    "#             continue\n",
    "        elif total_k == length:\n",
    "            length -= k\n",
    "            count += 1\n",
    "            continue\n",
    "        else:\n",
    "            k -= 1\n",
    "            length -=k\n",
    "            total_k -= k\n",
    "            count += 1\n",
    "            continue\n",
    "    print(f'{count}')"
   ]
  },
  {
   "cell_type": "code",
   "execution_count": 25,
   "metadata": {},
   "outputs": [
    {
     "name": "stdout",
     "output_type": "stream",
     "text": [
      "1\n",
      "6 12 10\n",
      "300\n"
     ]
    }
   ],
   "source": [
    "# https://www.acmicpc.net/problem/10250\n",
    "\n",
    "T = int(input())\n",
    "\n",
    "for tc in range(T):\n",
    "    H, W, N = map(int, input().split())\n",
    "    print(f'{(N-1)%H*100+(N-1)//H*101}')"
   ]
  }
 ],
 "metadata": {
  "kernelspec": {
   "display_name": "Python 3",
   "language": "python",
   "name": "python3"
  },
  "language_info": {
   "codemirror_mode": {
    "name": "ipython",
    "version": 3
   },
   "file_extension": ".py",
   "mimetype": "text/x-python",
   "name": "python",
   "nbconvert_exporter": "python",
   "pygments_lexer": "ipython3",
   "version": "3.6.7"
  }
 },
 "nbformat": 4,
 "nbformat_minor": 2
}
