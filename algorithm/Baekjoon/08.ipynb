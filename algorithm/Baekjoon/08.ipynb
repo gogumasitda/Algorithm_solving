{
 "cells": [
  {
   "cell_type": "code",
   "execution_count": null,
   "metadata": {},
   "outputs": [],
   "source": [
    "# 2292\n",
    "\n",
    "N = int(input())\n",
    "\n",
    "# 1, 6, 12, 18 .. 방은 해당 수만큼 증가\n",
    "# 1, 7, 19, 37.. 방의 마지막 번호는 다음과 같다.\n",
    "# 1, 2, 3, 4 .. 방을 넘는 수\n",
    "\n",
    "last_room_num = 1\n",
    "\n",
    "for i in range(N):\n",
    "    last_room_num += 6*i\n",
    "    if last_room_num >= N:\n",
    "        print(i+1)\n",
    "        break"
   ]
  },
  {
   "cell_type": "code",
   "execution_count": 4,
   "metadata": {},
   "outputs": [
    {
     "name": "stdout",
     "output_type": "stream",
     "text": [
      "3\n",
      "2/1\n"
     ]
    }
   ],
   "source": [
    "# https://www.acmicpc.net/problem/1193\n",
    "\n",
    "#  1  2  6  7 15 16 28\n",
    "#  3  5  8 14 17 27\n",
    "#  4  9 13 18 26\n",
    "# 10 12 19 25\n",
    "# 11 20 24\n",
    "# 21 23\n",
    "# 22\n",
    "\n",
    "# 1 3 6 10 15\n",
    "\n",
    "N = int(input())\n",
    "count = 0\n",
    "\n",
    "while N > 0:\n",
    "    count += 1\n",
    "    N -= count\n",
    "\n",
    "if count % 2 == 0:\n",
    "    print(f'{count + N}/{1 - N}')\n",
    "else:\n",
    "    print(f'{1 - N}/{count + N}')"
   ]
  }
 ],
 "metadata": {
  "kernelspec": {
   "display_name": "Python 3",
   "language": "python",
   "name": "python3"
  },
  "language_info": {
   "codemirror_mode": {
    "name": "ipython",
    "version": 3
   },
   "file_extension": ".py",
   "mimetype": "text/x-python",
   "name": "python",
   "nbconvert_exporter": "python",
   "pygments_lexer": "ipython3",
   "version": "3.6.7"
  }
 },
 "nbformat": 4,
 "nbformat_minor": 2
}
