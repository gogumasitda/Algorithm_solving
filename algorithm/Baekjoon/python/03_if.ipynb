{
 "cells": [
  {
   "cell_type": "code",
   "execution_count": null,
   "metadata": {},
   "outputs": [],
   "source": [
    "#9498\n",
    "inputScore = int(input())\n",
    "\n",
    "if inputScore >= 90:\n",
    "    print(\"A\")\n",
    "elif inputScore >= 80:\n",
    "    print(\"B\")\n",
    "elif inputScore >= 70:\n",
    "    print(\"C\")\n",
    "elif inputScore >= 60:\n",
    "    print(\"D\")\n",
    "else:\n",
    "    print(\"F\")"
   ]
  },
  {
   "cell_type": "code",
   "execution_count": null,
   "metadata": {},
   "outputs": [],
   "source": [
    "#10817\n",
    "inputList = list(map(int, input().split()))\n",
    "\n",
    "inputList.sort()\n",
    "\n",
    "print(inputList[1])"
   ]
  },
  {
   "cell_type": "code",
   "execution_count": null,
   "metadata": {},
   "outputs": [],
   "source": [
    "#10871\n",
    "inputN, inputX = map(int, input().split())\n",
    "listL = list(map(int, input().split()))\n",
    "\n",
    "for i in listL:\n",
    "    if inputX > i:\n",
    "        print(i, end = \" \")\n",
    "    "
   ]
  },
  {
   "cell_type": "code",
   "execution_count": null,
   "metadata": {},
   "outputs": [],
   "source": [
    "#1546\n",
    "inputN = int(input())\n",
    "listScore = list(map(int, input().split()))\n",
    "maxScore = max(listScore)\n",
    "sumScore = 0\n",
    "\n",
    "for i in listScore:\n",
    "    sumScore += (i*100)/maxScore\n",
    "print(sumScore/len(listScore))"
   ]
  },
  {
   "cell_type": "code",
   "execution_count": 24,
   "metadata": {},
   "outputs": [
    {
     "name": "stdout",
     "output_type": "stream",
     "text": [
      "1\n",
      "9 100 99 98 97 96 95 94 93 91\n",
      "55.556%\n"
     ]
    }
   ],
   "source": [
    "#4344\n",
    "case_num = int(input())\n",
    "score_list = [[]for i in range(case_num)]\n",
    "\n",
    "for i in range(case_num):\n",
    "    score_list[i] = list(map(int, input().split()))\n",
    "\n",
    "for i in range(case_num):\n",
    "    average_score = 0\n",
    "    count = 0\n",
    "    average_score = sum(score_list[i][1:])/score_list[i][0]\n",
    "    for j in range(1, score_list[i][0] + 1):\n",
    "        if score_list[i][j] > average_score:\n",
    "            count += 1\n",
    "    print(f\"{round((count / score_list[i][0])*100, 3):.3f}%\")"
   ]
  },
  {
   "cell_type": "code",
   "execution_count": null,
   "metadata": {},
   "outputs": [],
   "source": [
    "#4344 위키코드\n",
    "t = int(input())\n",
    "for i in range(t):\n",
    "    scores = list(map(int,input().split()))\n",
    "    n = scores[0]\n",
    "    scores = scores[1:]\n",
    "    avg = sum(scores)/n\n",
    "    cnt = len([s for s in scores if s>avg])\n",
    "    print( \"%.3f\" % (100*cnt/n), end='%\\n' )"
   ]
  },
  {
   "cell_type": "code",
   "execution_count": null,
   "metadata": {},
   "outputs": [
    {
     "name": "stdout",
     "output_type": "stream",
     "text": [
      "26\n"
     ]
    }
   ],
   "source": [
    "#1110\n",
    "input_num = input()\n",
    "count = 0\n",
    "list_num = list(map(int, input_num))\n",
    "\n",
    "while int(\"\".join(map(str, list_num))) != int(input_num) or count == 0:\n",
    "    list_num.append(int(str(list_num[0] + list_num[1])[-1]))\n",
    "    list_num[0] = list_num[1]\n",
    "    list_num[1] = list_num[2]\n",
    "    count += 1\n",
    "    \n",
    "print(count)"
   ]
  },
  {
   "cell_type": "code",
   "execution_count": null,
   "metadata": {},
   "outputs": [],
   "source": [
    "#1110\n",
    "input_num = input()\n",
    "count = 1\n",
    "list_num = list(map(int, input_num))\n",
    "list_num.append(int(str(list_num[0] + list_num[1])[-1]))\n",
    "list_num[0] = list_num[1]\n",
    "list_num[1] = list_num[2]\n",
    "# print(input_num)\n",
    "# print(int(\"\".join(map(str, list_num[0:2]))))\n",
    "\n",
    "while int(input_num) != int(\"\".join(map(str, list_num[0:2]))):\n",
    "    list_num.append(int(str(list_num[0] + list_num[1])[-1]))\n",
    "    list_num[0] = list_num[1]\n",
    "    list_num[1] = list_num[2]\n",
    "    count += 1\n",
    "print(count)"
   ]
  },
  {
   "cell_type": "code",
   "execution_count": 6,
   "metadata": {},
   "outputs": [
    {
     "name": "stdout",
     "output_type": "stream",
     "text": [
      "26\n",
      "4\n"
     ]
    }
   ],
   "source": [
    "#1110 위키코드\n",
    "def get_next_number(n):\n",
    "    p = n // 10\n",
    "    q = n % 10\n",
    "    return q*10 + (p+q)%10\n",
    "n = int(input())\n",
    "m = n\n",
    "cycle = 0\n",
    "while cycle == 0 or n != m:\n",
    "    m = get_next_number(m)\n",
    "    cycle += 1\n",
    "print( cycle )"
   ]
  },
  {
   "cell_type": "code",
   "execution_count": 11,
   "metadata": {},
   "outputs": [
    {
     "name": "stdout",
     "output_type": "stream",
     "text": [
      "26\n",
      "4\n"
     ]
    }
   ],
   "source": [
    "#1110\n",
    "input_num = int(input())\n",
    "pivot = input_num\n",
    "added_num = 0\n",
    "count = 0\n",
    "\n",
    "while count == 0 or added_num != input_num:\n",
    "    q = pivot // 10\n",
    "    r = pivot % 10\n",
    "    added_num = r * 10 + ((q + r) % 10)\n",
    "    pivot = added_num\n",
    "    count += 1\n",
    "print(count)"
   ]
  }
 ],
 "metadata": {
  "kernelspec": {
   "display_name": "Python 3",
   "language": "python",
   "name": "python3"
  },
  "language_info": {
   "codemirror_mode": {
    "name": "ipython",
    "version": 3
   },
   "file_extension": ".py",
   "mimetype": "text/x-python",
   "name": "python",
   "nbconvert_exporter": "python",
   "pygments_lexer": "ipython3",
   "version": "3.6.7"
  }
 },
 "nbformat": 4,
 "nbformat_minor": 2
}
