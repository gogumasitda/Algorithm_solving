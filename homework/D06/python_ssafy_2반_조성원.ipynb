{
 "cells": [
  {
   "cell_type": "markdown",
   "metadata": {},
   "source": [
    "# D04_19.01.07_Workshop\n",
    "## SSAFY, 대전, 2반 조성원"
   ]
  },
  {
   "cell_type": "code",
   "execution_count": 16,
   "metadata": {},
   "outputs": [
    {
     "name": "stdout",
     "output_type": "stream",
     "text": [
      "1.0\n"
     ]
    }
   ],
   "source": [
    "# 문제 1, 양의 정수 x를 입력 받아 제곱근의 근사값의 결과를 반환하는 함수를 작성하세요.\n",
    "\n",
    "def my_sqrt(number):\n",
    "    small = 1\n",
    "    big = number + 1\n",
    "    \n",
    "    for i in range(100):\n",
    "        pivot = (big + small) / 2\n",
    "        if number > pivot**2:\n",
    "            small = pivot\n",
    "        else:\n",
    "            big = pivot\n",
    "    return pivot\n",
    "\n",
    "print(my_sqrt(1))"
   ]
  }
 ],
 "metadata": {
  "kernelspec": {
   "display_name": "Python 3",
   "language": "python",
   "name": "python3"
  },
  "language_info": {
   "codemirror_mode": {
    "name": "ipython",
    "version": 3
   },
   "file_extension": ".py",
   "mimetype": "text/x-python",
   "name": "python",
   "nbconvert_exporter": "python",
   "pygments_lexer": "ipython3",
   "version": "3.6.7"
  }
 },
 "nbformat": 4,
 "nbformat_minor": 2
}
