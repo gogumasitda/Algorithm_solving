{
 "cells": [
  {
   "cell_type": "markdown",
   "metadata": {},
   "source": [
    "# D05_19.01.08_Homework\n",
    "## SSAFY_대전, 2반 조성원"
   ]
  },
  {
   "cell_type": "code",
   "execution_count": null,
   "metadata": {},
   "outputs": [],
   "source": [
    "#문제 1, 임의의 리스트 mt_list의 값을 하나씩 출력하는 코드를 작성하시오.\n",
    "\n",
    "def my_list(input_list):\n",
    "    for i in input_list:\n",
    "        print(i)\n",
    "    return None"
   ]
  },
  {
   "cell_type": "code",
   "execution_count": 3,
   "metadata": {
    "scrolled": true
   },
   "outputs": [
    {
     "name": "stdout",
     "output_type": "stream",
     "text": [
      "1\n",
      "2\n",
      "3\n",
      "4\n",
      "5\n",
      "6\n",
      "7\n",
      "8\n",
      "9\n",
      "10\n"
     ]
    }
   ],
   "source": [
    "#문제 1, 새로운 함수 정의하지 않고 그냥 풀었습니다.\n",
    "\n",
    "my_list = list(range(1, 11))\n",
    "\n",
    "for i in my_list:\n",
    "    print(i)"
   ]
  },
  {
   "cell_type": "code",
   "execution_count": 4,
   "metadata": {},
   "outputs": [
    {
     "name": "stdout",
     "output_type": "stream",
     "text": [
      "인덱스: 0, 값: 1\n",
      "인덱스: 1, 값: 2\n",
      "인덱스: 2, 값: 3\n",
      "인덱스: 3, 값: 4\n",
      "인덱스: 4, 값: 5\n",
      "인덱스: 5, 값: 6\n",
      "인덱스: 6, 값: 7\n",
      "인덱스: 7, 값: 8\n",
      "인덱스: 8, 값: 9\n",
      "인덱스: 9, 값: 10\n"
     ]
    }
   ],
   "source": [
    "#문제 2, 위에서 작성한 코드를 인덱스 값과 함께 출력하는 코드로 변경하시오\n",
    "\n",
    "my_list = list(range(1, 11))\n",
    "\n",
    "for index, value in enumerate(my_list):\n",
    "    print(f\"인덱스: {index}, 값: {value}\")"
   ]
  },
  {
   "cell_type": "markdown",
   "metadata": {},
   "source": [
    "## 문제 3, 딕셔너리 my_dict 각각의 상황에 따라 반복문을 수행할 수 있도록 빈칸을 채우시오\n",
    "\n",
    "1. key: for key in my_dict:\n",
    "2. value: for value in my_dict.values()\n",
    "3. key와 value: for key, value in my_dict.items()        "
   ]
  },
  {
   "cell_type": "markdown",
   "metadata": {},
   "source": [
    "## 문제 4 result에 저장된 갑은?\n",
    "\n",
    "def my_func(a, b):\n",
    "    c = a + b\n",
    "    print(c)\n",
    "    \n",
    "result = my_func(1, 5)\n",
    "\n",
    "정답: None이 저장됩니다."
   ]
  }
 ],
 "metadata": {
  "kernelspec": {
   "display_name": "Python 3",
   "language": "python",
   "name": "python3"
  },
  "language_info": {
   "codemirror_mode": {
    "name": "ipython",
    "version": 3
   },
   "file_extension": ".py",
   "mimetype": "text/x-python",
   "name": "python",
   "nbconvert_exporter": "python",
   "pygments_lexer": "ipython3",
   "version": "3.6.7"
  }
 },
 "nbformat": 4,
 "nbformat_minor": 2
}
