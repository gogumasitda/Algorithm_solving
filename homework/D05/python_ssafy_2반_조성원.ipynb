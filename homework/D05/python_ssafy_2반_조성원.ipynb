{
 "cells": [
  {
   "cell_type": "markdown",
   "metadata": {},
   "source": [
    "# D04_19.01.07_Workshop\n",
    "## SSAFY, 대전, 2반 조성원"
   ]
  },
  {
   "cell_type": "code",
   "execution_count": 11,
   "metadata": {},
   "outputs": [
    {
     "name": "stdout",
     "output_type": "stream",
     "text": [
      "False\n",
      "True\n",
      "True\n",
      "True\n",
      "True\n",
      "True\n",
      "False\n",
      "False\n",
      "False\n"
     ]
    }
   ],
   "source": [
    "# 문제 1, Palindrome. Palindrome을 검증하고  True나 False를 리턴하는 함수를 만들어라\n",
    "\n",
    "def palindrome(words):\n",
    "    words = words.replace(\" \", \"\")\n",
    "    if len(words) == 0:\n",
    "        return False\n",
    "    \n",
    "    for i in words:\n",
    "        if i == words[-1]:\n",
    "            words = words[:-1]\n",
    "        else:\n",
    "            return False\n",
    "    return True\n",
    "\n",
    "print(palindrome(\"\"))\n",
    "print(palindrome(\"a\"))\n",
    "print(palindrome(\"aa\"))\n",
    "print(palindrome(\"aaa\"))\n",
    "print(palindrome(\"aa    a\"))\n",
    "print(palindrome(\"saippuakivikauppias\"))\n",
    "print(palindrome(\"anavolimilana\"))\n",
    "print(palindrome(\"abaccbcb\"))\n",
    "print(palindrome(\"abacc        bcb\"))"
   ]
  },
  {
   "cell_type": "code",
   "execution_count": null,
   "metadata": {},
   "outputs": [],
   "source": [
    "#선생님 풀이 1\n",
    "def isPalindrome(word):\n",
    "    left_word = 0\n",
    "    right_word = len(word) - 1\n",
    "    \n",
    "    while right_word >= left_word:\n",
    "        if word[left_word] != word[right_word]:\n",
    "            return False\n",
    "        left_word += 1\n",
    "        right_word -= 1\n",
    "    return True"
   ]
  },
  {
   "cell_type": "code",
   "execution_count": null,
   "metadata": {},
   "outputs": [],
   "source": [
    "#선생님 풀이 2\n",
    "def isPalindrome(word):\n",
    "    list_word = list(word)\n",
    "    for i in range(len(list_word) // 2): #어차피 중앙에 1글자 남아도 그건 결과에 영향x. 하나만 남아도 당연히 팰린드롬\n",
    "        if list_word[i] != list_word[-i-1]:\n",
    "            return False\n",
    "    return True       "
   ]
  },
  {
   "cell_type": "code",
   "execution_count": null,
   "metadata": {},
   "outputs": [],
   "source": [
    "#선생님 풀이 3\n",
    "def isPalindrome(word):\n",
    "    return list(word) == list(reversed(word))"
   ]
  },
  {
   "cell_type": "code",
   "execution_count": null,
   "metadata": {},
   "outputs": [],
   "source": [
    "#선생님 풀이 4\n",
    "def isPalindrome(word):\n",
    "    return list(word) == list(word[::-1]) #[시작:끝:간격] 그런데 여기서 이렇게 하면 [::-1] 끝에서 부터 처음까지 -1만큼 계속"
   ]
  }
 ],
 "metadata": {
  "kernelspec": {
   "display_name": "Python 3",
   "language": "python",
   "name": "python3"
  },
  "language_info": {
   "codemirror_mode": {
    "name": "ipython",
    "version": 3
   },
   "file_extension": ".py",
   "mimetype": "text/x-python",
   "name": "python",
   "nbconvert_exporter": "python",
   "pygments_lexer": "ipython3",
   "version": "3.6.7"
  }
 },
 "nbformat": 4,
 "nbformat_minor": 2
}
